{
 "cells": [
  {
   "cell_type": "markdown",
   "metadata": {},
   "source": [
    "# Challenge 2"
   ]
  },
  {
   "cell_type": "markdown",
   "metadata": {},
   "source": [
    "The code below generates a given number of random strings that consists of numbers and \n",
    "lower case English letters. You can also define the range of the variable lengths of\n",
    "the strings being generated.\n",
    "\n",
    "The code is functional but has a lot of room for improvement. Use what you have learned\n",
    "about simple and efficient code, refactor the code."
   ]
  },
  {
   "cell_type": "markdown",
   "metadata": {},
   "source": [
    "Random String Generator:"
   ]
  },
  {
   "cell_type": "code",
   "execution_count": 100,
   "metadata": {
    "ExecuteTime": {
     "end_time": "2020-02-16T11:36:34.811612Z",
     "start_time": "2020-02-16T11:36:34.809321Z"
    }
   },
   "outputs": [],
   "source": [
    "# Base code:\n",
    "\n",
    "# def RandomStringGenerator(l=12, a=['a','b','c','d','e','f','g','h','i','j','k','l','m','n','o','p','q','r','s','t','u','v','w','x','y','z','0','1','2','3','4','5','6','7','8','9']):\n",
    "#     p = 0\n",
    "#     s = ''\n",
    "#     while p<l:\n",
    "#         import random\n",
    "#         s += random.choice(a)\n",
    "#         p += 1\n",
    "#     return s\n",
    "\n",
    "\n",
    "\n"
   ]
  },
  {
   "cell_type": "code",
   "execution_count": 101,
   "metadata": {
    "ExecuteTime": {
     "end_time": "2020-02-16T11:36:35.637359Z",
     "start_time": "2020-02-16T11:36:35.631051Z"
    }
   },
   "outputs": [
    {
     "data": {
      "text/plain": [
       "['c', 'x', 't', 'd', 'v', 'r', 'l']"
      ]
     },
     "execution_count": 101,
     "metadata": {},
     "output_type": "execute_result"
    }
   ],
   "source": [
    "# Cleaner code:\n",
    "\n",
    "import random\n",
    "import string\n",
    "\n",
    "def RandomStringGenerator(n=12, a= string.ascii_lowercase + string.digits):\n",
    "\n",
    "    lst = [random.choice(a) for n in range(n)]\n",
    "    return lst\n",
    "\n",
    "RandomStringGenerator(7)"
   ]
  },
  {
   "cell_type": "markdown",
   "metadata": {},
   "source": [
    "Batch String Generator:"
   ]
  },
  {
   "cell_type": "code",
   "execution_count": 102,
   "metadata": {
    "ExecuteTime": {
     "end_time": "2020-02-16T11:36:42.854005Z",
     "start_time": "2020-02-16T11:36:42.851295Z"
    }
   },
   "outputs": [],
   "source": [
    "# Base Code\n",
    "\n",
    "# def BatchStringGenerator(n, a=8, b=12):\n",
    "#     r = []\n",
    "#     for i in range(n):\n",
    "#         c = None\n",
    "#         if a < b:\n",
    "#             import random\n",
    "#             c = random.choice(range(a, b))\n",
    "#         elif a == b:\n",
    "#             c = a\n",
    "#         else:\n",
    "#             import sys\n",
    "#             sys.exit('Incorrect min and max string lengths. Try again.')\n",
    "#         r.append(RandomStringGenerator(c))\n",
    "#     return r\n",
    "\n"
   ]
  },
  {
   "cell_type": "code",
   "execution_count": 103,
   "metadata": {
    "ExecuteTime": {
     "end_time": "2020-02-16T11:36:56.534083Z",
     "start_time": "2020-02-16T11:36:44.284039Z"
    }
   },
   "outputs": [
    {
     "name": "stdout",
     "output_type": "stream",
     "text": [
      "Enter minimum string length: 2\n",
      "Enter maximum string length: 8\n",
      "How many random strings to generate? 3\n"
     ]
    },
    {
     "data": {
      "text/plain": [
       "[['h', '9', '1', 'i'],\n",
       " ['6', 'c', 'j', 'l', 'e', '2', 'b'],\n",
       " ['s', '8', '2', 'o']]"
      ]
     },
     "execution_count": 103,
     "metadata": {},
     "output_type": "execute_result"
    }
   ],
   "source": [
    "# Cleaner code\n",
    "\n",
    "import random\n",
    "import string\n",
    "\n",
    "\n",
    "def BatchStringGenerator():\n",
    "    a = int(input('Enter minimum string length: '))\n",
    "    b = int(input('Enter maximum string length: '))\n",
    "    n = int(input('How many random strings to generate? '))\n",
    "    key = string.ascii_lowercase + string.digits\n",
    "    try:\n",
    "        a <= b\n",
    "        lst = [[random.choice(key) for i in range(random.randint(a, b))] for loop in range((n))]\n",
    "        return lst\n",
    "    except:\n",
    "        raise ValueError('Invalid string length, min number (a) has to be smaller than max number (b)')\n",
    "        \n",
    "        \n",
    "BatchStringGenerator()"
   ]
  },
  {
   "cell_type": "code",
   "execution_count": null,
   "metadata": {},
   "outputs": [],
   "source": []
  }
 ],
 "metadata": {
  "kernelspec": {
   "display_name": "Python 3",
   "language": "python",
   "name": "python3"
  },
  "language_info": {
   "codemirror_mode": {
    "name": "ipython",
    "version": 3
   },
   "file_extension": ".py",
   "mimetype": "text/x-python",
   "name": "python",
   "nbconvert_exporter": "python",
   "pygments_lexer": "ipython3",
   "version": "3.7.4"
  },
  "toc": {
   "base_numbering": 1,
   "nav_menu": {},
   "number_sections": true,
   "sideBar": true,
   "skip_h1_title": false,
   "title_cell": "Table of Contents",
   "title_sidebar": "Contents",
   "toc_cell": false,
   "toc_position": {},
   "toc_section_display": true,
   "toc_window_display": false
  },
  "varInspector": {
   "cols": {
    "lenName": 16,
    "lenType": 16,
    "lenVar": 40
   },
   "kernels_config": {
    "python": {
     "delete_cmd_postfix": "",
     "delete_cmd_prefix": "del ",
     "library": "var_list.py",
     "varRefreshCmd": "print(var_dic_list())"
    },
    "r": {
     "delete_cmd_postfix": ") ",
     "delete_cmd_prefix": "rm(",
     "library": "var_list.r",
     "varRefreshCmd": "cat(var_dic_list()) "
    }
   },
   "types_to_exclude": [
    "module",
    "function",
    "builtin_function_or_method",
    "instance",
    "_Feature"
   ],
   "window_display": false
  }
 },
 "nbformat": 4,
 "nbformat_minor": 2
}
