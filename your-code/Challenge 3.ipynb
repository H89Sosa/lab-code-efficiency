{
 "cells": [
  {
   "cell_type": "markdown",
   "metadata": {},
   "source": [
    "# Challenge 3"
   ]
  },
  {
   "cell_type": "markdown",
   "metadata": {},
   "source": [
    "You are presented with an integer number larger than 5. Your goal is to identify the longest side\n",
    "possible in a right triangle whose sides are not longer than the number you are given.\n",
    "\n",
    "For example, if you are given the number 15, there are 3 possibilities to compose right triangles:\n",
    "\n",
    "1. [3, 4, 5]\n",
    "2. [6, 8, 10]\n",
    "3. [5, 12, 13]\n",
    "\n",
    "The following function shows one way to solve the problem but the code is not ideal or efficient.\n",
    "Refactor the code based on what you have learned about code simplicity and efficiency."
   ]
  },
  {
   "cell_type": "code",
   "execution_count": 1,
   "metadata": {
    "ExecuteTime": {
     "end_time": "2020-02-18T22:23:04.992248Z",
     "start_time": "2020-02-18T22:22:58.883499Z"
    },
    "scrolled": true
   },
   "outputs": [
    {
     "name": "stdout",
     "output_type": "stream",
     "text": [
      "What is the maximal length of the triangle side? Enter a number: 5\n",
      "The number must be greater than 5. Please try again\n",
      "What is the maximal length of the triangle side? Enter a number: 9\n",
      "The longest side possible is 5\n"
     ]
    }
   ],
   "source": [
    "def my_function():\n",
    "    \n",
    "    num = int(input(\"What is the maximal length of the triangle side? Enter a number: \"))\n",
    "    \n",
    "    if num < 6:\n",
    "        \n",
    "        print(f'The number must be greater than 5. Please try again')\n",
    "        my_function()\n",
    "    \n",
    "    else:\n",
    "        solutions=[]\n",
    "        \n",
    "        for x in range(5, num):\n",
    "            for y in range(4, num):\n",
    "                for z in range(3, num):\n",
    "                    if (x*x==y*y+z*z):                        \n",
    "                        solutions= [x, y, z]\n",
    "        \n",
    "#       NOT WORKING: solutions1 = [[x, y, z] for z in range(3,num) for y in range(4,num) for x in range(5,num) if (x*x==y*y+z*z)]\n",
    "                    \n",
    "        print(f'The longest side possible is {max(solutions)}')\n",
    "\n",
    "my_function()"
   ]
  }
 ],
 "metadata": {
  "kernelspec": {
   "display_name": "Python 3",
   "language": "python",
   "name": "python3"
  },
  "language_info": {
   "codemirror_mode": {
    "name": "ipython",
    "version": 3
   },
   "file_extension": ".py",
   "mimetype": "text/x-python",
   "name": "python",
   "nbconvert_exporter": "python",
   "pygments_lexer": "ipython3",
   "version": "3.7.4"
  },
  "toc": {
   "base_numbering": 1,
   "nav_menu": {},
   "number_sections": true,
   "sideBar": true,
   "skip_h1_title": false,
   "title_cell": "Table of Contents",
   "title_sidebar": "Contents",
   "toc_cell": false,
   "toc_position": {},
   "toc_section_display": true,
   "toc_window_display": false
  },
  "varInspector": {
   "cols": {
    "lenName": 16,
    "lenType": 16,
    "lenVar": 40
   },
   "kernels_config": {
    "python": {
     "delete_cmd_postfix": "",
     "delete_cmd_prefix": "del ",
     "library": "var_list.py",
     "varRefreshCmd": "print(var_dic_list())"
    },
    "r": {
     "delete_cmd_postfix": ") ",
     "delete_cmd_prefix": "rm(",
     "library": "var_list.r",
     "varRefreshCmd": "cat(var_dic_list()) "
    }
   },
   "types_to_exclude": [
    "module",
    "function",
    "builtin_function_or_method",
    "instance",
    "_Feature"
   ],
   "window_display": false
  }
 },
 "nbformat": 4,
 "nbformat_minor": 2
}
